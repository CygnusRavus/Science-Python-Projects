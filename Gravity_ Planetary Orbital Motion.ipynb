{
 "cells": [
  {
   "cell_type": "markdown",
   "metadata": {
    "id": "9wpXiHRf-6mI"
   },
   "source": [
    "# Modelling Gravity\n",
    "\n",
    "*(Background in math and physics would be helpful)*\n",
    "\n",
    "Given how most astronomical systems are far beyond our reach, we often need to turn to models and simulations in order to verify our predictions about theories. This simulation is a simplified version of the ones used to predict the long-term behaviour of comets and asteroids, which may pose potential hazards to earth.\n",
    "\n",
    "**Problem Statement:** Can we predict the orbital period of planets in the solar system?"
   ]
  },
  {
   "cell_type": "markdown",
   "metadata": {
    "id": "wY3dx54z4aFi"
   },
   "source": [
    "## Theory\n",
    "\n",
    "Gravity is one of the four fundamental forces in the universe. Gravity (in simple terms) is a purely attractive force, determined by the mass of the two objects and the distance between them. For two point-masses, the gravitational force between them is given by\n",
    "\n",
    "$$\n",
    "F_G = \\frac{GMm}{r^2}\n",
    "$$\n",
    "\n",
    "Where $F_G$ is the force, $G=6.67\\times 10^{-11}$ m$^{3}$kg$^{-1}$s$^{-1}$ is the gravitational constant, $M,m$ are the masses of the two bodies, and $r$ is the distance between them. \n",
    "\n",
    "\n",
    "However, this simplistic (scalar) formula does not account for the direction of the force. When modelling gravitational bodies, we will have to consider the direction of the force as well. We can rewrite the formula as a vector, such that the force body 1 experiences due to body 2 is\n",
    "\n",
    "\\begin{align}\n",
    "\\vec{F}_G \n",
    "&= \\frac{GMm}{|r^2|}\\cdot \\hat{r} \\\\\n",
    "&= \\stackrel{\\mathrm{Magnitude}}{\\frac{GMm}{|\\vec{r}_2 - \\vec{r}_1|^2}}\\cdot \\stackrel{\\mathrm{Unit\\ Vector}}{\\frac{(\\vec{r}_2 - \\vec{r}_1)}{|\\vec{r}_2 - \\vec{r}_1|}}\n",
    "\\end{align}\n",
    "\n",
    "Where we can write the distance between the masses as the magnitude of the difference in their positions ($\\vec{r}_1, \\vec{r}_2$ respectively), multiplied by a unit vector for direction of the force.\n",
    "\n",
    "When working in higher dimensions, one way we can simplify this is to decompose this into the three cartesian directions ($x,y,z$) and work them out separately.\n",
    "\n",
    "E.g., consider the force in $x$, which will cause acceleration in the $x$ direction, and changes in the $x$ velocity and $x$ position. Note that the magnitude of the force still depends on the total (pythagorean) distance between the bodies.\n",
    "\n"
   ]
  },
  {
   "cell_type": "markdown",
   "metadata": {
    "id": "O1vK4UFq-MOT"
   },
   "source": [
    "![image.png](data:image/png;base64,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)"
   ]
  },
  {
   "cell_type": "markdown",
   "metadata": {
    "id": "Bj54cXyQ60Pw"
   },
   "source": [
    "## Limitations: Three-body Problem\n",
    "\n",
    "We can see that the formula for gravity between two bodies is relatively simple. However, when we consider more bodies, the system becomes much more complicated. This is known as the three-body problem. The three-body problem cannot be solved exactly and often requires numerical simulations to model. \n",
    "\n",
    "The number of interactions to consider grows with the number of bodies considered. For two bodies, there is only one interaction between them. For three bodies, there are three interactions pairwise between them. For four bodies, the number of pairwise interactions become 6. The interactions scale roughly to the square of the number of bodies. As such, many body systems are often difficult to model computationally."
   ]
  },
  {
   "cell_type": "markdown",
   "metadata": {
    "id": "utiXnuFX67Ru"
   },
   "source": [
    "## Numerical Integration\n",
    "\n",
    "The idea behind numerical integration is to take small steps in time ($\\delta t$) and determine the path the object will follow. This is different from reality as time flows smoothly and continuously. As such, we can deduce that the smaller time steps we take, the closer we get to a continuous flow of time, and the more accurate the simulation (At the cost of computational power).\n",
    "\n",
    "To do numerical integration, we must first understand (1) position $r$, (2) velocity $v$, and (3) acceleration $a$. In physics, velocity is defined as change in position over time $t$, and acceleration is change in velocity over time $t$. As simple way to express this is\n",
    "\n",
    "$$\n",
    "v \\equiv \\frac{\\mathrm{d}r}{\\mathrm{d}t} \\approx \\frac{r_f - r_i}{t} \\\\\n",
    "a \\equiv \\frac{\\mathrm{d}v}{\\mathrm{d}t} \\approx \\frac{v_f - v_i}{t}\n",
    "$$\n",
    "\n",
    "The time differentials ($\\mathrm{d}/\\mathrm{d}t$) indicate a change in time with respect to a variable. We can see that it is essentially taking the difference between the final and inital values (subscript $f$ and $i$), and dividing by the time difference $t$.\n",
    "\n",
    "We can use this equation to find the final velocity/position, given that we know the acceleration/velocity ($v$), initial velocity/position ($r_i$), and the time taken. By choosing a small time step $\\delta t$, we can find the position at the next instance in time ($r_f$):\n",
    "\n",
    "$$\n",
    "v = \\frac{r_f - r_i}{\\delta t} \\\\\n",
    "r_f = r_i + v\\cdot\\delta t\n",
    "$$\n",
    "\n",
    "Likewise for velocity\n",
    "\n",
    "$$\n",
    "a = \\frac{v_f - v_i}{\\delta t} \\\\\n",
    "v_f = v_i + a\\cdot\\delta t\n",
    "$$\n",
    "\n",
    "Thus, we can sequentially determine the velocity and position of an object step-by-step, given that we know the acceleration (proportional to force, $F=ma$) on the object. Extending this to multiple dimensions simply requires us to consider each cardinal direction (x, y, z) separately. \n"
   ]
  },
  {
   "cell_type": "markdown",
   "metadata": {
    "id": "aPMU9D9r9NF5"
   },
   "source": [
    "## Simulation Model\n",
    "\n",
    "We will be considering a simple model to begin with. We will be making a few simplifications to the model\n",
    "1.\tWe consider a two-dimensional model ($x,y$)\\\n",
    "    a.\tThis can easily be extended into three-dimensions if required\\\n",
    "    b.\tTwo dimensional simulation may not hold when considering chaotic wandering of multiple bodies \n",
    "2.\tGravitation between planets is ignored\\\n",
    "    a.\tGravity is a relatively weak force, and so planet-planet interactions can be ignored if we are not investigating such effects\\\n",
    "    b.\tWhen doing three-body modelling, you cannot make this assumption (e.g., orbital resonances)\n",
    "3.\tThe sun is immovable\\\n",
    "    a.\tThis again is a consequence that the force exerted on the sun by planets is negligible\\\n",
    "    b.\tDoes not hold if we want to consider more massive bodies (E.g., binary star systems)\n",
    "4.\tPoint-mass\\\n",
    "    a.\tAll bodies are treated as point-masses, i.e., their mass is all concentrated into a single point, and they do not have a radius\\\n",
    "    b.\tThis might lead to “slingshot” events when two bodies approach each other two closely\n",
    "5.\tGeneral Relativity effects are ignored\\\n",
    "    a.\t“Relativistic mass/momentum” is ignored\\\n",
    "    b.\tFrame-dragging by massive rotating bodies is ignored\n"
   ]
  },
  {
   "cell_type": "markdown",
   "metadata": {
    "id": "fxXlr8yWQqmD"
   },
   "source": [
    "# Simulation"
   ]
  },
  {
   "cell_type": "markdown",
   "metadata": {
    "id": "vQa_W6AZ_VRj"
   },
   "source": [
    "## Initial Setting Up\n",
    "\n",
    "\n",
    "**Problem Statement**: Can we predict the orbital period of planets in the solar system?\n",
    "\n",
    "We will begin by trying out Mercury and the sun.\n",
    "\n",
    "First, we have to import the libraries required. We will need\n",
    "\n",
    "1. *matplotlib.pyplot* for plotting our results\n",
    "2. *numpy* for making the math simplier in arrays"
   ]
  },
  {
   "cell_type": "code",
   "execution_count": 1,
   "metadata": {
    "id": "bMMh-1SD4XQT"
   },
   "outputs": [],
   "source": [
    "import matplotlib.pyplot as plt\n",
    "import numpy as np"
   ]
  },
  {
   "cell_type": "markdown",
   "metadata": {
    "id": "1nlO0eyn_42g"
   },
   "source": [
    "Next, let's declare the variables that we want to keep constant. \n",
    "\n",
    "1. Gravitational Constant $G$\n",
    "2. Time step $\\delta t$\n",
    "3. Total run time $t$\n",
    "\n",
    "For now, we use a time step of $60$s and a total run time of $88$ days (Roughly the orbital period of mercury)"
   ]
  },
  {
   "cell_type": "code",
   "execution_count": 2,
   "metadata": {
    "id": "v1pNbrx2ACRo"
   },
   "outputs": [],
   "source": [
    "G = 6.67E-11                # Gravitational Constant\n",
    "time_step = 60              # Numerical integration time step size (s)\n",
    "run_time = 60*60*24*88      # Total run time: number of steps = run time/step size (s)"
   ]
  },
  {
   "cell_type": "markdown",
   "metadata": {
    "id": "HoKzL3lYArfn"
   },
   "source": [
    "## Making the Masses\n",
    "\n",
    "Consider what variables we need for each body:\n",
    "\n",
    "1. Position ($r_x, r_y$)\n",
    "2. Velocity ($v_x, v_y$)\n",
    "3. Acceleration ($a_x, a_y$)\n",
    "4. Mass ($m$)\n",
    "\n",
    "For the variables that involve multiple coordinates, we can use numpy's array to hold both numbers at once. This will essentially be a vector. We can then store all of these variables into a list, for each body. For example, "
   ]
  },
  {
   "cell_type": "code",
   "execution_count": 3,
   "metadata": {
    "id": "nfCHBEU8LYY9"
   },
   "outputs": [],
   "source": [
    "pos = np.array([0,0])\n",
    "vel = np.array([1,0])\n",
    "accel = np.array([0,0])\n",
    "mass = 1\n",
    "\n",
    "planet = [pos, vel, accel, mass]"
   ]
  },
  {
   "cell_type": "markdown",
   "metadata": {
    "id": "PkxAnLJKLxM4"
   },
   "source": [
    "And so when we want the different variables, we can just find them from the list:"
   ]
  },
  {
   "cell_type": "code",
   "execution_count": 4,
   "metadata": {
    "colab": {
     "base_uri": "https://localhost:8080/"
    },
    "executionInfo": {
     "elapsed": 20,
     "status": "ok",
     "timestamp": 1639125224444,
     "user": {
      "displayName": "Kai Xiang Lee",
      "photoUrl": "https://lh3.googleusercontent.com/a-/AOh14GgBJUAJUYel5rdbTnU92LBd__AiaBgIY-k-dk5xLA=s64",
      "userId": "12776711516058684946"
     },
     "user_tz": -480
    },
    "id": "MFzNebslL1iw",
    "outputId": "09c7ec53-b051-4a36-8671-7c0f2252a905"
   },
   "outputs": [
    {
     "name": "stdout",
     "output_type": "stream",
     "text": [
      "The position is\n",
      "[0 0]\n",
      "The mass is\n",
      "1\n"
     ]
    }
   ],
   "source": [
    "print(\"The position is\")\n",
    "print(planet[0])\n",
    "\n",
    "print(\"The mass is\")\n",
    "print(planet[3])"
   ]
  },
  {
   "cell_type": "markdown",
   "metadata": {
    "id": "yFU5VnLqL9Vx"
   },
   "source": [
    "and so on. \n",
    "\n",
    "Let's model the orbit of Mercury and the sun. Googling, we find that the sun has the mass of $M_s = 1989\\times10^{27}$ kg. We can initialise the sun as the centre of the system, position = $(0,0)$, and is essentially so heavy that Mercury doesn't move the sun, velocity = $(0,0)$. Acceleration will be later computed by the equation for the force shown above. For now, we also set it to $(0,0)$\n"
   ]
  },
  {
   "cell_type": "code",
   "execution_count": 5,
   "metadata": {
    "id": "Q3Uu9cXjM9sh"
   },
   "outputs": [],
   "source": [
    "sun_pos = np.array([0,0])\n",
    "sun_vel = np.array([0,0])\n",
    "sun_accel = np.array([0,0])\n",
    "sun_mass = 1989E27\n",
    "\n",
    "sun = [sun_pos, sun_vel, sun_accel, sun_mass]"
   ]
  },
  {
   "cell_type": "markdown",
   "metadata": {
    "id": "N8IqygBGM8sq"
   },
   "source": [
    "\n",
    "Next, Mercury has the mass of roughly $M_m = 33\\times10^{22}$kg. At its furthest point from the sun, $r_m = 69.8\\times10^6$ km, it has the minimum orbital velocity $v_m = 38.6$ km/s. [ https://nssdc.gsfc.nasa.gov/planetary/factsheet/mercuryfact.html ]\n",
    "\n",
    "Note that we could have equivalently used the closest approach to the sun, and the maximum velocity.\n",
    "\n",
    " We can start Mercury along the $x$-axis, such that:"
   ]
  },
  {
   "cell_type": "code",
   "execution_count": 6,
   "metadata": {
    "id": "TeLlq0LnN76X"
   },
   "outputs": [],
   "source": [
    "merc_pos = np.array([69.8E9,0])                         # Starts along the x-axis\n",
    "merc_vel = np.array([0,38.6E3])                         # And velocity is tangential, pointing in the y-axis\n",
    "merc_accel = np.array([0,0])                            # Acceleration is again left empty\n",
    "merc_mass = 33E22\n",
    "\n",
    "merc = [merc_pos, merc_vel, merc_accel, merc_mass]"
   ]
  },
  {
   "cell_type": "markdown",
   "metadata": {
    "id": "SAFb67-RQhk6"
   },
   "source": [
    "## Moving the bodies\n",
    "\n",
    "Now we want to move the bodies. First, we need a function to determine the force on each body for us. We want it to take in two masses as inputs, and output the force. We will treat the sun as essentially immovable, and so we will only need to force on Mercury.\n",
    "\n",
    "To find the distance between the two masses, we will use the *np.linalg.norm()* function. What this essentially does is find the pythagorean distance of the numpy array (vector) inside it.\n",
    "\n",
    "E.g., "
   ]
  },
  {
   "cell_type": "code",
   "execution_count": 7,
   "metadata": {
    "colab": {
     "base_uri": "https://localhost:8080/"
    },
    "executionInfo": {
     "elapsed": 19,
     "status": "ok",
     "timestamp": 1639125224446,
     "user": {
      "displayName": "Kai Xiang Lee",
      "photoUrl": "https://lh3.googleusercontent.com/a-/AOh14GgBJUAJUYel5rdbTnU92LBd__AiaBgIY-k-dk5xLA=s64",
      "userId": "12776711516058684946"
     },
     "user_tz": -480
    },
    "id": "s5zpTmt1R6sx",
    "outputId": "84108f37-86b8-4f7a-c7d3-5d768f7d544d"
   },
   "outputs": [
    {
     "name": "stdout",
     "output_type": "stream",
     "text": [
      "5.0\n",
      "5.0\n"
     ]
    }
   ],
   "source": [
    "distance = np.linalg.norm( np.array((3,4)) )\n",
    "print(distance)\n",
    "\n",
    "distance2 = np.sqrt( 3**2 + 4**2 )\n",
    "print(distance2)"
   ]
  },
  {
   "cell_type": "markdown",
   "metadata": {
    "id": "dsu8phfQSOrW"
   },
   "source": [
    "And so, we can write the force as"
   ]
  },
  {
   "cell_type": "code",
   "execution_count": 8,
   "metadata": {
    "id": "c_w7XCh1RPUQ"
   },
   "outputs": [],
   "source": [
    "def force(body1, body2):\n",
    "    # We will treat body1 as immovable\n",
    "\n",
    "    distance = np.linalg.norm(body1[0] - body2[0])\n",
    "    unit_vector = (body1[0] - body2[0]) / distance\n",
    "\n",
    "    F = G*body1[3]*body2[3] / distance**2 * unit_vector\n",
    "\n",
    "    return F"
   ]
  },
  {
   "cell_type": "markdown",
   "metadata": {
    "id": "BGLdR40KSbrI"
   },
   "source": [
    "Putting this to the test, we find that there is a force in the direction towards the sun (-$x$ direction)"
   ]
  },
  {
   "cell_type": "code",
   "execution_count": 9,
   "metadata": {
    "colab": {
     "base_uri": "https://localhost:8080/"
    },
    "executionInfo": {
     "elapsed": 18,
     "status": "ok",
     "timestamp": 1639125224447,
     "user": {
      "displayName": "Kai Xiang Lee",
      "photoUrl": "https://lh3.googleusercontent.com/a-/AOh14GgBJUAJUYel5rdbTnU92LBd__AiaBgIY-k-dk5xLA=s64",
      "userId": "12776711516058684946"
     },
     "user_tz": -480
    },
    "id": "spieD9fGSd0E",
    "outputId": "7fb07d32-4ae1-4549-fea2-93daca3628df"
   },
   "outputs": [
    {
     "data": {
      "text/plain": [
       "array([-8.98594408e+21,  0.00000000e+00])"
      ]
     },
     "execution_count": 9,
     "metadata": {},
     "output_type": "execute_result"
    }
   ],
   "source": [
    "force(sun, merc)"
   ]
  },
  {
   "cell_type": "markdown",
   "metadata": {
    "id": "RIpg05lHTCOM"
   },
   "source": [
    "Now, we need another function, to move the planets numerically after finding the force. We can do this using the formula worked out earlier. We want it to take in the inputs of force and the body, and shift the position of the body."
   ]
  },
  {
   "cell_type": "code",
   "execution_count": 10,
   "metadata": {
    "id": "6UWTOx-eTLgb"
   },
   "outputs": [],
   "source": [
    "def numerical(force, body):\n",
    "    body[2] = force / body[3]       # Changing the force to acceleration on the body\n",
    "\n",
    "    # Numerical Calculation \n",
    "    body[0] = body[0] + body[1]*time_step       # Numerical integration of position\n",
    "    body[1] = body[1] + body[2]*time_step       # Numerical integration of velocity\n"
   ]
  },
  {
   "cell_type": "markdown",
   "metadata": {
    "id": "3qWkE5BXTxj_"
   },
   "source": [
    "We can test this out on the example planet made earlier. Assume we apply a 1N force in the y-direction:"
   ]
  },
  {
   "cell_type": "code",
   "execution_count": 11,
   "metadata": {
    "colab": {
     "base_uri": "https://localhost:8080/"
    },
    "executionInfo": {
     "elapsed": 16,
     "status": "ok",
     "timestamp": 1639125224448,
     "user": {
      "displayName": "Kai Xiang Lee",
      "photoUrl": "https://lh3.googleusercontent.com/a-/AOh14GgBJUAJUYel5rdbTnU92LBd__AiaBgIY-k-dk5xLA=s64",
      "userId": "12776711516058684946"
     },
     "user_tz": -480
    },
    "id": "bqU1UA6oT_HO",
    "outputId": "14dbcf89-df19-458b-896b-21d22cc90702"
   },
   "outputs": [
    {
     "name": "stdout",
     "output_type": "stream",
     "text": [
      "[array([60,  0]), array([ 1., 60.]), array([0., 1.]), 1]\n"
     ]
    }
   ],
   "source": [
    "example_force = np.array((0,1))\n",
    "\n",
    "numerical(example_force, planet)\n",
    "\n",
    "print(planet)"
   ]
  },
  {
   "cell_type": "markdown",
   "metadata": {
    "id": "CKKIlkCsULKn"
   },
   "source": [
    "And we can see that the body moves according to the force applied on it: There is a change in the velocity and position. If you keep re-running the cell above, you can see that the position increases quadratically, while the velocity increases linearly."
   ]
  },
  {
   "cell_type": "markdown",
   "metadata": {
    "id": "XzMi_t4xUY0p"
   },
   "source": [
    "We need a good way to visualise the movement of the bodies. To do this, we need a list to keep track of the history of the position and velocity of the bodies. Everytime we move the planet numerically, we add the new position and velocity into the list."
   ]
  },
  {
   "cell_type": "code",
   "execution_count": 12,
   "metadata": {
    "id": "VxLVCfj2Zgpo"
   },
   "outputs": [],
   "source": [
    "merc_vel_hist = []\n",
    "merc_pos_hist = []"
   ]
  },
  {
   "cell_type": "markdown",
   "metadata": {
    "id": "fjJAOBNPZw_5"
   },
   "source": [
    "## Running the simulation\n",
    "\n",
    "We can now run our model. We will use a while loop to repeat the process until the time limit we specified at the start. "
   ]
  },
  {
   "cell_type": "code",
   "execution_count": 13,
   "metadata": {
    "id": "KsVHYVVyaZsg"
   },
   "outputs": [],
   "source": [
    "time = [0]                                                  # Starting at time t = 0\n",
    "\n",
    "while time[-1] < run_time:                                  # While the time is lesser than our defined run time\n",
    "    merc_pos_hist.append(list(merc[0]))                     # Update the list of time, positions and velocities\n",
    "    merc_vel_hist.append(list(merc[1]))\n",
    "    time.append( time[-1] + time_step ) \n",
    "\n",
    "    merc_force = force(sun, merc)                           # Find the force on Mercury\n",
    "\n",
    "    numerical(merc_force, merc)                             # Move the planet\n"
   ]
  },
  {
   "cell_type": "markdown",
   "metadata": {
    "id": "bMG_bPH7bW6y"
   },
   "source": [
    "We can now try plotting out the path of the planet. To do this, we want to plot out the x and y position of Mercury, and the sun (For display)."
   ]
  },
  {
   "cell_type": "code",
   "execution_count": 19,
   "metadata": {
    "colab": {
     "base_uri": "https://localhost:8080/",
     "height": 294
    },
    "executionInfo": {
     "elapsed": 486,
     "status": "ok",
     "timestamp": 1639125239459,
     "user": {
      "displayName": "Kai Xiang Lee",
      "photoUrl": "https://lh3.googleusercontent.com/a-/AOh14GgBJUAJUYel5rdbTnU92LBd__AiaBgIY-k-dk5xLA=s64",
      "userId": "12776711516058684946"
     },
     "user_tz": -480
    },
    "id": "Bm2iTsKVbWbV",
    "outputId": "0e8521b3-db29-44b1-e297-8c01d9ca7c05"
   },
   "outputs": [
    {
     "data": {
      "image/png": "[encoded data removed]",
      "text/plain": [
       "<Figure size 800x480 with 1 Axes>"
      ]
     },
     "metadata": {
      "needs_background": "light"
     },
     "output_type": "display_data"
    }
   ],
   "source": [
    "positions = np.array(merc_pos_hist)                                     # To make it easier to retrive the right numbers\n",
    "\n",
    "plt.figure(figsize = (10,6), dpi = 80)\n",
    "\n",
    "plt.plot(positions[:,0], positions[:,1], label = \"Mercury\")             # Position of Mercury\n",
    "plt.scatter([sun[0][0]], [sun[0][1]], color = 'r', label = \"Sun\")       # Position of the Sun\n",
    "\n",
    "plt.title(\"Orbit of Mercury\")\n",
    "plt.show()"
   ]
  },
  {
   "cell_type": "markdown",
   "metadata": {
    "id": "aoasgqwadKqP"
   },
   "source": [
    "We can also plot out the change in positions with time."
   ]
  },
  {
   "cell_type": "code",
   "execution_count": 20,
   "metadata": {
    "colab": {
     "base_uri": "https://localhost:8080/",
     "height": 290
    },
    "executionInfo": {
     "elapsed": 1261,
     "status": "ok",
     "timestamp": 1639125368196,
     "user": {
      "displayName": "Kai Xiang Lee",
      "photoUrl": "https://lh3.googleusercontent.com/a-/AOh14GgBJUAJUYel5rdbTnU92LBd__AiaBgIY-k-dk5xLA=s64",
      "userId": "12776711516058684946"
     },
     "user_tz": -480
    },
    "id": "kaUiP4X_dN6S",
    "outputId": "ea96855c-9585-4f4b-daf1-2e85173c5ebd"
   },
   "outputs": [
    {
     "data": {
      "image/png": "[encoded data removed]",
      "text/plain": [
       "<Figure size 800x480 with 1 Axes>"
      ]
     },
     "metadata": {
      "needs_background": "light"
     },
     "output_type": "display_data"
    }
   ],
   "source": [
    "plt.figure(figsize = (10,6), dpi = 80)\n",
    "\n",
    "plt.plot(time[:-1], positions[:,0], label = \"x-Position\")\n",
    "plt.plot(time[:-1], positions[:,1], label = \"y-Position\")\n",
    "plt.plot(time[:-1], np.sqrt(positions[:,0]**2 +  positions[:,1]**2), label = \"Net Displacement\")\n",
    "\n",
    "plt.ylabel(\"Position (m)\")\n",
    "plt.xlabel(\"Time (s)\")\n",
    "plt.legend()\n",
    "plt.grid()\n",
    "\n",
    "plt.show()"
   ]
  },
  {
   "cell_type": "markdown",
   "metadata": {
    "id": "0CzgInD1c-gq"
   },
   "source": [
    "How long does it take to make one orbit around the sun? Looking at the graph, we can see that one way to find out is to determine what is the time when the y-position goes from negative to positive. We can do this by running a loop over the positions, and keeping track of this change."
   ]
  },
  {
   "cell_type": "code",
   "execution_count": 16,
   "metadata": {
    "colab": {
     "base_uri": "https://localhost:8080/"
    },
    "executionInfo": {
     "elapsed": 382,
     "status": "ok",
     "timestamp": 1639125931565,
     "user": {
      "displayName": "Kai Xiang Lee",
      "photoUrl": "https://lh3.googleusercontent.com/a-/AOh14GgBJUAJUYel5rdbTnU92LBd__AiaBgIY-k-dk5xLA=s64",
      "userId": "12776711516058684946"
     },
     "user_tz": -480
    },
    "id": "c5S4etUSfgeE",
    "outputId": "0b951a7d-cb07-47fb-b300-d96f4167f600"
   },
   "outputs": [
    {
     "name": "stdout",
     "output_type": "stream",
     "text": [
      "7505460\n"
     ]
    }
   ],
   "source": [
    "prev_ypos = 0                                           # To keep track of the previous value\n",
    "index = 0                                               # To keep track of the location where it meets the criteria\n",
    "\n",
    "y_positions = list(positions[:,1])\n",
    "\n",
    "for i in range(len(y_positions)):                       # Iterating over the y positions\n",
    "    ypos = y_positions[i]                               # The y position\n",
    "    if ypos > 0 and prev_ypos < 0:                      # If the previous value is <0 and the current one > 0\n",
    "        index = i                                       # Save this number\n",
    "        break                                           # Break out of the loop\n",
    "    \n",
    "    prev_ypos = ypos                                    # If it didn't meet the criteria, update the current position as the previous and continue searching\n",
    "\n",
    "period = time[index]                                    # The period will then be the time at which the criteria is met\n",
    "\n",
    "print(period)"
   ]
  },
  {
   "cell_type": "markdown",
   "metadata": {
    "id": "XPfW1lNSgxwh"
   },
   "source": [
    "This is currently in seconds. To change it to days, we can just divide:"
   ]
  },
  {
   "cell_type": "code",
   "execution_count": 17,
   "metadata": {
    "colab": {
     "base_uri": "https://localhost:8080/"
    },
    "executionInfo": {
     "elapsed": 3,
     "status": "ok",
     "timestamp": 1639125932926,
     "user": {
      "displayName": "Kai Xiang Lee",
      "photoUrl": "https://lh3.googleusercontent.com/a-/AOh14GgBJUAJUYel5rdbTnU92LBd__AiaBgIY-k-dk5xLA=s64",
      "userId": "12776711516058684946"
     },
     "user_tz": -480
    },
    "id": "dLgrPqNrg2WS",
    "outputId": "45a43dbc-7693-461d-c374-48d1d32b43dd"
   },
   "outputs": [
    {
     "name": "stdout",
     "output_type": "stream",
     "text": [
      "The orbital period of Mercury is roughly 86.86874999999999 days.\n"
     ]
    }
   ],
   "source": [
    "period = period/60/60/24\n",
    "\n",
    "print (\"The orbital period of Mercury is roughly \" + str(period) + \" days.\")"
   ]
  },
  {
   "cell_type": "markdown",
   "metadata": {
    "id": "BioCKUaJhcbn"
   },
   "source": [
    "# Possible Extensions"
   ]
  },
  {
   "cell_type": "markdown",
   "metadata": {
    "id": "thBuk2Vghfew"
   },
   "source": [
    "\n",
    "\n",
    "*   How will the velocity change with time? What about acceleration?\n",
    "*   What happens if we change the time step? What is the deviation from the actual value of the orbital period?\n",
    "*   Does this model work equally well for other planets?\n",
    "*   What happens if there are more planets?\n",
    "*   Try changing the value of the Gravitational Constant. What happens then?\n",
    "*   What if the force of gravity does not follow an inverse square law?\n",
    "\n"
   ]
  }
 ],
 "metadata": {
  "colab": {
   "authorship_tag": "ABX9TyPhwHIN3E641nWhGFejPgVD",
   "collapsed_sections": [],
   "name": "Gravity: Planetary Orbital Motion.ipynb",
   "provenance": [],
   "toc_visible": true
  },
  "kernelspec": {
   "display_name": "Python 3 (ipykernel)",
   "language": "python",
   "name": "python3"
  },
  "language_info": {
   "codemirror_mode": {
    "name": "ipython",
    "version": 3
   },
   "file_extension": ".py",
   "mimetype": "text/x-python",
   "name": "python",
   "nbconvert_exporter": "python",
   "pygments_lexer": "ipython3",
   "version": "3.10.1"
  }
 },
 "nbformat": 4,
 "nbformat_minor": 4
}
