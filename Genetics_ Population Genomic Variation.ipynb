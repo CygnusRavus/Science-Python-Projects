{
 "cells": [
  {
   "cell_type": "markdown",
   "metadata": {
    "id": "Dgs9-GQ0SZVH"
   },
   "source": [
    "# Genetic Variation Across a Popoluation"
   ]
  },
  {
   "cell_type": "markdown",
   "metadata": {
    "id": "5yvXIagrSji8"
   },
   "source": [
    "In genomics, we would like to observe the genetic drift of populations over time. This drift may be due to various reaons, from environmental pressure, natural selection, or random mutational chance. An example of genetic drift is the island dwarfism of organisms isolated in areas with limited resources.\n",
    "\n",
    "In this simulation, we learn a way to quantify the distribution of DNA across the population. The population will undergo self-breeding and we will observe how this distribution changes.\n",
    "\n",
    "***"
   ]
  },
  {
   "cell_type": "markdown",
   "metadata": {
    "id": "V4NNzfpQW41m"
   },
   "source": [
    "The organisms in this case will be modelled as a string of base pairs, `\"ATCGTGAC\"`. The population will then be a list of fixed length containing these strings, each representing an individual. \n",
    "\n",
    "Every breeding cycle, the gene pool will be mixed. \n",
    "\n",
    "Two individuals will be randomly selected, and their genes mixed in order to produce a new organism. A small mutation rate will be included as part of this breeding process. This process is repeated until we obtain enough individuals for the next generation of the population, and the old population is discarded. \n",
    "\n",
    "The distribution of genes will then be calculated at each breeding cycle. This distribution is given by the informational entropy of the base across the population (explaination below).\n",
    "\n",
    "The workflow will be as follows:\n",
    "1. Initialise the population of random genes\n",
    "2. For each breeding cycle\\\n",
    "    a. Pick two individuals, and mix their DNA (with some mutations)\\\n",
    "    b. Add this offspring to a new population\\\n",
    "    c. Repeat until the size of the new population matches the old population\\\n",
    "    d. Find the distribution (entropy) of genomes\n",
    "3. Trace how this distribution (entropy) evolves with time"
   ]
  },
  {
   "cell_type": "markdown",
   "metadata": {
    "id": "PdK5iKaiWFUY"
   },
   "source": [
    "# Sample Simulation"
   ]
  },
  {
   "cell_type": "markdown",
   "metadata": {
    "id": "PD_-__MBYZCv"
   },
   "source": [
    "We will start by making a small simulation to test how it works"
   ]
  },
  {
   "cell_type": "markdown",
   "metadata": {
    "id": "xS6z-tOt9wDf"
   },
   "source": [
    "## Libraries\n",
    "\n",
    "First, we will need to import our libraries. We will be using\n",
    "\n",
    "1. `matplotlib.pyplot` for plotting\n",
    "2. `numpy` for their random library"
   ]
  },
  {
   "cell_type": "code",
   "execution_count": 242,
   "metadata": {
    "executionInfo": {
     "elapsed": 7,
     "status": "ok",
     "timestamp": 1645099070586,
     "user": {
      "displayName": "Kai Xiang Lee",
      "photoUrl": "https://lh3.googleusercontent.com/a-/AOh14GgBJUAJUYel5rdbTnU92LBd__AiaBgIY-k-dk5xLA=s64",
      "userId": "12776711516058684946"
     },
     "user_tz": -480
    },
    "id": "27nrpUPS81_a"
   },
   "outputs": [],
   "source": [
    "import matplotlib.pyplot as plt\n",
    "import numpy as np"
   ]
  },
  {
   "cell_type": "markdown",
   "metadata": {
    "id": "SxV-i4jcLjSz"
   },
   "source": [
    "## Initial Variables"
   ]
  },
  {
   "cell_type": "markdown",
   "metadata": {
    "id": "7yiEpTM5Jeq7"
   },
   "source": [
    "Let's define a variable `bases` to hold the different bases we can find in organisms. This will be a tuple.\n",
    "\n",
    "A variable `DNA_length` will also be defined to hold the length of the genome we want for our simulation. This is important as all organisms should have the same number of bases (same DNA length).\n",
    "\n",
    "We will also add a base mutation rate, `mutation_rate`, which introduces a random change to the base during breeding.\n",
    "\n",
    "A variable `popln_size` will be defined to hold the size of our population."
   ]
  },
  {
   "cell_type": "code",
   "execution_count": 227,
   "metadata": {
    "executionInfo": {
     "elapsed": 27,
     "status": "ok",
     "timestamp": 1645099069066,
     "user": {
      "displayName": "Kai Xiang Lee",
      "photoUrl": "https://lh3.googleusercontent.com/a-/AOh14GgBJUAJUYel5rdbTnU92LBd__AiaBgIY-k-dk5xLA=s64",
      "userId": "12776711516058684946"
     },
     "user_tz": -480
    },
    "id": "1m4Fw4_x921o"
   },
   "outputs": [],
   "source": [
    "bases = \"A\", \"T\", \"C\", \"G\"          # Default DNA base pairs\n",
    "\n",
    "DNA_length = 50                     # Fixed DNA length for all individuals\n",
    "mutation_rate = 0.01                # Fixed mutation rate (1%)\n",
    "\n",
    "popln_size = 50                     # Size of test population"
   ]
  },
  {
   "cell_type": "markdown",
   "metadata": {
    "id": "tOClznWhLnD6"
   },
   "source": [
    "## Functions"
   ]
  },
  {
   "cell_type": "markdown",
   "metadata": {
    "id": "6YIjND7vYwMt"
   },
   "source": [
    "Next, we define the functions we will need in our simulation."
   ]
  },
  {
   "cell_type": "markdown",
   "metadata": {
    "id": "EL-tNpqNLoQ4"
   },
   "source": [
    "### New Organism"
   ]
  },
  {
   "cell_type": "markdown",
   "metadata": {
    "id": "r1U0PmcmJNNz"
   },
   "source": [
    "We define a function to create a brand new organism from scratch for us. It will take in no arguments, and return a string (DNA of organism).\n",
    "\n",
    "This will come in handy when we have to make a lot of starting organisms as our experimental population."
   ]
  },
  {
   "cell_type": "code",
   "execution_count": 228,
   "metadata": {
    "executionInfo": {
     "elapsed": 27,
     "status": "ok",
     "timestamp": 1645099069067,
     "user": {
      "displayName": "Kai Xiang Lee",
      "photoUrl": "https://lh3.googleusercontent.com/a-/AOh14GgBJUAJUYel5rdbTnU92LBd__AiaBgIY-k-dk5xLA=s64",
      "userId": "12776711516058684946"
     },
     "user_tz": -480
    },
    "id": "co8fNV1m-eg9"
   },
   "outputs": [],
   "source": [
    "def make_organism():                    # Takes in no arguments\n",
    "    DNA = \"\"                            # Initialise a variable to hold the new \n",
    "                                        # DNA sequence\n",
    "\n",
    "    for base in range(DNA_length):      # For each base pair in the sequence\n",
    "                                        # We add a random new base\n",
    "        DNA = DNA + bases[np.random.randint(4)]\n",
    "\n",
    "    return DNA                          # Return this compiled DNA sequence"
   ]
  },
  {
   "cell_type": "markdown",
   "metadata": {
    "id": "erdeen6-J3nG"
   },
   "source": [
    "Let's test it! We make a test organism, `Adam`."
   ]
  },
  {
   "cell_type": "code",
   "execution_count": 229,
   "metadata": {
    "colab": {
     "base_uri": "https://localhost:8080/",
     "height": 35
    },
    "executionInfo": {
     "elapsed": 26,
     "status": "ok",
     "timestamp": 1645099069067,
     "user": {
      "displayName": "Kai Xiang Lee",
      "photoUrl": "https://lh3.googleusercontent.com/a-/AOh14GgBJUAJUYel5rdbTnU92LBd__AiaBgIY-k-dk5xLA=s64",
      "userId": "12776711516058684946"
     },
     "user_tz": -480
    },
    "id": "nM0JOUTrJ2dY",
    "outputId": "353df848-f27b-49c4-9161-98400c27305c"
   },
   "outputs": [
    {
     "data": {
      "application/vnd.google.colaboratory.intrinsic+json": {
       "type": "string"
      },
      "text/plain": [
       "'GTCACAGGCATCGTTTTAATGAAACGAATACCTGCCGGCTGTAGGCTCGC'"
      ]
     },
     "execution_count": 229,
     "metadata": {},
     "output_type": "execute_result"
    }
   ],
   "source": [
    "adam = make_organism()\n",
    "adam"
   ]
  },
  {
   "cell_type": "markdown",
   "metadata": {
    "id": "bv-JBYwgLz5w"
   },
   "source": [
    "### Breeding"
   ]
  },
  {
   "cell_type": "markdown",
   "metadata": {
    "id": "UwJEIqx_JbFy"
   },
   "source": [
    "Now we make a function that breeds two organisms together. It will take in two strings (the two organism DNAs) and return a string (the offspring's DNA).\n",
    "\n",
    "It will go down both genomes, and randomly pick one base to add to the new sequence. It will also introduce a chance to randomly mutating the base into another, using the mutation rate defined earlier."
   ]
  },
  {
   "cell_type": "code",
   "execution_count": 230,
   "metadata": {
    "executionInfo": {
     "elapsed": 25,
     "status": "ok",
     "timestamp": 1645099069067,
     "user": {
      "displayName": "Kai Xiang Lee",
      "photoUrl": "https://lh3.googleusercontent.com/a-/AOh14GgBJUAJUYel5rdbTnU92LBd__AiaBgIY-k-dk5xLA=s64",
      "userId": "12776711516058684946"
     },
     "user_tz": -480
    },
    "id": "CUbAEFYIJZ5o"
   },
   "outputs": [],
   "source": [
    "def breed(organism1, organism2):                    # Takes in two organisms \n",
    "                                                    # (strings)\n",
    "    new_DNA = \"\"                                    # Initialise a variable to \n",
    "                                                    # hold the offsping's DNA\n",
    "\n",
    "    for base in range(DNA_length):                  # Going over the DNA length\n",
    "                                                    # Checks if there's mutation\n",
    "        mutation = (np.random.random() <= mutation_rate)\n",
    "        # Makes a random number 0<x<1, and checks if it is lesser than\n",
    "        # the mutation rate, x < 0.01. This is either true or false\n",
    "\n",
    "        if mutation is True:                        # If there is a mutation\n",
    "                                                    # Insert a random base\n",
    "            new_DNA = new_DNA + bases[np.random.randint(4)]\n",
    "        else:                                       # Otherwise,\n",
    "            random_choice = np.random.randint(2)    # Pick a random parent by 0 or 1\n",
    "\n",
    "            if random_choice == 0:                  # If chosen parent 0\n",
    "                new_DNA = new_DNA + organism1[base] # add their base\n",
    "\n",
    "            elif random_choice == 1:                # If chosen parent 1\n",
    "                new_DNA = new_DNA + organism2[base] # Add their base\n",
    "\n",
    "    return new_DNA          # Return the offspring DNA"
   ]
  },
  {
   "cell_type": "markdown",
   "metadata": {
    "id": "y5JdXZhAL3a8"
   },
   "source": [
    "Let's test it! We make a new test organism, `Eve`, and have her breed with `Adam`."
   ]
  },
  {
   "cell_type": "code",
   "execution_count": 231,
   "metadata": {
    "colab": {
     "base_uri": "https://localhost:8080/",
     "height": 35
    },
    "executionInfo": {
     "elapsed": 25,
     "status": "ok",
     "timestamp": 1645099069068,
     "user": {
      "displayName": "Kai Xiang Lee",
      "photoUrl": "https://lh3.googleusercontent.com/a-/AOh14GgBJUAJUYel5rdbTnU92LBd__AiaBgIY-k-dk5xLA=s64",
      "userId": "12776711516058684946"
     },
     "user_tz": -480
    },
    "id": "oC_MBPpVLIFq",
    "outputId": "b6aead3c-2582-430c-f423-c96810632525"
   },
   "outputs": [
    {
     "data": {
      "application/vnd.google.colaboratory.intrinsic+json": {
       "type": "string"
      },
      "text/plain": [
       "'TGAAACTATACCTCGAGGCCACGGTCAGACGATGAAGCAGAGTCAAACTG'"
      ]
     },
     "execution_count": 231,
     "metadata": {},
     "output_type": "execute_result"
    }
   ],
   "source": [
    "eve = make_organism()\n",
    "eve"
   ]
  },
  {
   "cell_type": "markdown",
   "metadata": {
    "id": "JLfuOjNNbEq6"
   },
   "source": [
    "We breed them, and find their offspring `Cain`'s DNA."
   ]
  },
  {
   "cell_type": "code",
   "execution_count": 232,
   "metadata": {
    "colab": {
     "base_uri": "https://localhost:8080/",
     "height": 35
    },
    "executionInfo": {
     "elapsed": 24,
     "status": "ok",
     "timestamp": 1645099069068,
     "user": {
      "displayName": "Kai Xiang Lee",
      "photoUrl": "https://lh3.googleusercontent.com/a-/AOh14GgBJUAJUYel5rdbTnU92LBd__AiaBgIY-k-dk5xLA=s64",
      "userId": "12776711516058684946"
     },
     "user_tz": -480
    },
    "id": "ie6Y_ZAdLcdc",
    "outputId": "2a09af6c-6737-413b-f8b3-90d37819a544"
   },
   "outputs": [
    {
     "data": {
      "application/vnd.google.colaboratory.intrinsic+json": {
       "type": "string"
      },
      "text/plain": [
       "'GGCAACTACACCGCGTGAACGCGGTCAATAGCTGACGCCGGGTGGAACGG'"
      ]
     },
     "execution_count": 232,
     "metadata": {},
     "output_type": "execute_result"
    }
   ],
   "source": [
    "cain = breed(adam,eve)\n",
    "cain"
   ]
  },
  {
   "cell_type": "markdown",
   "metadata": {
    "id": "MPeQ2M1ZTEgZ"
   },
   "source": [
    "### Genome Distribution"
   ]
  },
  {
   "cell_type": "markdown",
   "metadata": {
    "id": "CW5-5WTuMHK1"
   },
   "source": [
    "Next, we want a function that will test the similarity between the genomes of the population. It will iterate over each base pair, and observe the differences across the population. The differences will be given by the informational content/entropy across the base.\n",
    "\n",
    "The entropy is given by the formula\n",
    "\n",
    "$$\n",
    "H = \\sum_\\mathrm{values} -p(\\mathrm{value}) \\log_2[p(\\mathrm{value})]\n",
    "$$\n",
    "\n",
    "where $p(\\mathrm{value})$ is the probability of having the value. In this case, this is found by finding the number of occurances of each base, and dividing by the number of individuals in the population.\n",
    "\n",
    "The higher the entropy, the more variation in the base pairs. The lower the entropy, the greater the similarity across organisms.\n",
    "\n",
    "***\n",
    "\n",
    "**Example**\n",
    "\n",
    "For example, consider a population of individuals with DNA sequences\n",
    "\n",
    "* Alice = \"ABCD\"\n",
    "* Bob = \"ABCD\"\n",
    "* Carol = \"BBCD\"\n",
    "\n",
    "We look at the first base pair, and find that they are distributed as  `[\"A\", \"A\", \"B\"]`. We can find the entropy as\n",
    "\n",
    "\\begin{align}\n",
    "H_1 \n",
    "&= - p(``A\") \\log_2[p(``A\")] - p(``B\") \\log_2[p(``B\")] \\\\\n",
    "&= - \\frac{2}{3} \\log_2\\left[\\frac{2}{3}\\right] - \\frac{1}{3} \\log_2\\left[\\frac{1}{3}\\right] \\\\\n",
    "&= 0.918\n",
    "\\end{align}\n",
    "\n",
    "Finding the entropy across the other base pairs, we find that\n",
    "\n",
    "$$\n",
    "H_2 = -p(``B\") \\log_2[p(``B\")] = 0\n",
    "$$\n",
    "\n",
    "and likewise for the third and fourth base pairs, $H_3 = H_4 = 0$. Thus, we have the total entropy\n",
    "\n",
    "$$\n",
    "H_T = H_1 + H_2 + H_3 + H_4 = 0.918\n",
    "$$\n",
    "\n",
    "***"
   ]
  },
  {
   "cell_type": "markdown",
   "metadata": {
    "id": "BnlWcR4qTIe5"
   },
   "source": [
    "First, let's make a function to calculate the entropy for us. It will take in a list (or tuple) and return a float. \n",
    "\n",
    "We will use a dictionary to assign a variable to its count, e.g., `{\"A\": 5, \"B\": 10, \"C\": 1}`. A dictionary is a collection of items, which are organised as {key: value, $\\cdots$}. This allows us to assign a count (value) to each word (key). This will then be used to find the entropy"
   ]
  },
  {
   "cell_type": "code",
   "execution_count": 233,
   "metadata": {
    "executionInfo": {
     "elapsed": 24,
     "status": "ok",
     "timestamp": 1645099069069,
     "user": {
      "displayName": "Kai Xiang Lee",
      "photoUrl": "https://lh3.googleusercontent.com/a-/AOh14GgBJUAJUYel5rdbTnU92LBd__AiaBgIY-k-dk5xLA=s64",
      "userId": "12776711516058684946"
     },
     "user_tz": -480
    },
    "id": "KKcOnBJMOrDH"
   },
   "outputs": [],
   "source": [
    "def entropy(distribution):              # List of bases across the population\n",
    "    counts = {}                         # Dictionary to hold counts\n",
    "    total_counts = len(distribution)    # Total population size\n",
    "\n",
    "    for i in distribution:              # Iterating over the distribution\n",
    "        if i in counts:                 # check if the base is in the dictionary\n",
    "            counts[i] = counts[i] + 1   # if so, we add 1 to the current count\n",
    "        else:                           # if it isn't inside\n",
    "            counts[i] = 1               # we initiallise it with a count of 1\n",
    "    \n",
    "    H = 0                               # Define a variable to hold the entropy\n",
    "\n",
    "    for key,value in counts.items():    # iterating over the dictionary\n",
    "                                        # We find the probability of the base\n",
    "        probability = value/total_counts\n",
    "                                        # and sum the entropy up with the above formula\n",
    "        H = H - probability * np.log2(probability)\n",
    "    \n",
    "    return H                            # Finally, we return the entropy"
   ]
  },
  {
   "cell_type": "markdown",
   "metadata": {
    "id": "kRB-WknaUFBi"
   },
   "source": [
    "Now, we make a function that finds the total entropy across the whole population. It will take in a list of strings (population DNAs) and return a float number.\n",
    "\n",
    "It will iterate through the length of the DNA, collecting the population distribution of base pairs at each base, and find the entropy. The entropy is then all added up."
   ]
  },
  {
   "cell_type": "code",
   "execution_count": 234,
   "metadata": {
    "executionInfo": {
     "elapsed": 23,
     "status": "ok",
     "timestamp": 1645099069069,
     "user": {
      "displayName": "Kai Xiang Lee",
      "photoUrl": "https://lh3.googleusercontent.com/a-/AOh14GgBJUAJUYel5rdbTnU92LBd__AiaBgIY-k-dk5xLA=s64",
      "userId": "12776711516058684946"
     },
     "user_tz": -480
    },
    "id": "1nwSKu5xM6V_"
   },
   "outputs": [],
   "source": [
    "def genome_entropy(popln):              # Takes in a list of DNAs\n",
    "    overall_entropy = 0                 # Define a variable for the total entropy\n",
    "\n",
    "    for base in range(DNA_length):      # Going down the DNA length,\n",
    "                                        # We will compile the bases at each step\n",
    "                                        # A list is defined to compile the bases\n",
    "        list_of_bases = [] \n",
    "\n",
    "                                        # Iterate over the population\n",
    "        for organism in popln:\n",
    "                                        # Append the individual's base to the list\n",
    "            list_of_bases.append(organism[base])\n",
    "        \n",
    "                                        # Use our earlier function to find the \n",
    "                                        # entropy for this step in the DNA\n",
    "        base_entropy = entropy(list_of_bases)\n",
    "\n",
    "                                        # Add to our total entropy\n",
    "        overall_entropy += base_entropy\n",
    "        \n",
    "                                        # Return the total entropy\n",
    "    return overall_entropy"
   ]
  },
  {
   "cell_type": "markdown",
   "metadata": {
    "id": "MLKL2rFoUoYo"
   },
   "source": [
    "Let's test it! We compare the genome similarity between our test organisms. We will expect a higher similarity between parent and child, compared to the two parents."
   ]
  },
  {
   "cell_type": "code",
   "execution_count": 235,
   "metadata": {
    "colab": {
     "base_uri": "https://localhost:8080/"
    },
    "executionInfo": {
     "elapsed": 23,
     "status": "ok",
     "timestamp": 1645099069069,
     "user": {
      "displayName": "Kai Xiang Lee",
      "photoUrl": "https://lh3.googleusercontent.com/a-/AOh14GgBJUAJUYel5rdbTnU92LBd__AiaBgIY-k-dk5xLA=s64",
      "userId": "12776711516058684946"
     },
     "user_tz": -480
    },
    "id": "e8E-DnupUn7O",
    "outputId": "1d82de60-6bf1-4642-9808-e5849170ac86"
   },
   "outputs": [
    {
     "name": "stdout",
     "output_type": "stream",
     "text": [
      "Difference between genomes of Adam and Eve: 42.0\n",
      "Difference between genomes of Adam and Cain: 24.0\n",
      "Difference between genomes of Eve and Cain: 18.0\n"
     ]
    }
   ],
   "source": [
    "adam_eve = genome_entropy((adam,eve))\n",
    "print(\"Difference between genomes of Adam and Eve: \", adam_eve, sep = \"\")\n",
    "\n",
    "adam_cain = genome_entropy((adam,cain))\n",
    "print(\"Difference between genomes of Adam and Cain: \", adam_cain, sep = \"\")\n",
    "\n",
    "eve_cain = genome_entropy((eve, cain))\n",
    "print(\"Difference between genomes of Eve and Cain: \", eve_cain, sep = \"\")"
   ]
  },
  {
   "cell_type": "markdown",
   "metadata": {
    "id": "lQsmn2jqc126"
   },
   "source": [
    "As expected, the difference between `Adam` and `Eve` is larger than either with `Cain`."
   ]
  },
  {
   "cell_type": "markdown",
   "metadata": {
    "id": "zOwM5DmPWBbf"
   },
   "source": [
    "# Simulation"
   ]
  },
  {
   "cell_type": "markdown",
   "metadata": {
    "id": "N35AeSx-dB0j"
   },
   "source": [
    "We will now run the actual simulation. All the pieces are in place to make the actual simulation.\n",
    "\n",
    "First, we will define a list to hold all the DNA sequences of our population, and populate it."
   ]
  },
  {
   "cell_type": "code",
   "execution_count": 236,
   "metadata": {
    "executionInfo": {
     "elapsed": 16,
     "status": "ok",
     "timestamp": 1645099069070,
     "user": {
      "displayName": "Kai Xiang Lee",
      "photoUrl": "https://lh3.googleusercontent.com/a-/AOh14GgBJUAJUYel5rdbTnU92LBd__AiaBgIY-k-dk5xLA=s64",
      "userId": "12776711516058684946"
     },
     "user_tz": -480
    },
    "id": "KaCFD9xldLJK"
   },
   "outputs": [],
   "source": [
    "popln_DNA = []                          # List of everyone's DNA\n",
    "\n",
    "for individual in range(popln_size):    # For each individual,\n",
    "    new_indiv = make_organism()         # make their DNA randomly\n",
    "\n",
    "    popln_DNA.append(new_indiv)         # Add them to the population"
   ]
  },
  {
   "cell_type": "markdown",
   "metadata": {
    "id": "xNnsYW_de0Iw"
   },
   "source": [
    "Let's take a look."
   ]
  },
  {
   "cell_type": "code",
   "execution_count": 237,
   "metadata": {
    "colab": {
     "base_uri": "https://localhost:8080/"
    },
    "executionInfo": {
     "elapsed": 15,
     "status": "ok",
     "timestamp": 1645099069070,
     "user": {
      "displayName": "Kai Xiang Lee",
      "photoUrl": "https://lh3.googleusercontent.com/a-/AOh14GgBJUAJUYel5rdbTnU92LBd__AiaBgIY-k-dk5xLA=s64",
      "userId": "12776711516058684946"
     },
     "user_tz": -480
    },
    "id": "31LLl70Ddajc",
    "outputId": "d80f368e-34b3-4ab2-fcf6-6a55fe46ab7b"
   },
   "outputs": [
    {
     "data": {
      "text/plain": [
       "['CTAGGACGGTTGGGCTTTAGGGTCATTACCCCTTACTTAAACAACGAGGT',\n",
       " 'ACGGGTTGATATAGAGCCTTGCTTAAGGATCAAGCGTTGCCACAGAGGTA',\n",
       " 'GCTCCAGCCAGTCCGGGTTCCTTCCTGGACAATCTGCACCCAGTTGATAA',\n",
       " 'GTCGCATATAGGGTAAGAGATATACACCCCCCGAGTCCACTATAACCGGC',\n",
       " 'CGCATGCGTATTCGACGACCGTGCTCACTGTCCTTTACGGACGCATATCT',\n",
       " 'ACTTTCAGCTCCTTTTGCTTAAAACCAAGGCTCCGCGTAACCTTCTTTCC',\n",
       " 'ACTATGGCGTCGCGTGGGATCACTCTCCCAAGCGAGCAAAACCGTAGCCC',\n",
       " 'GGGTGGACGATCCACTCAATAAGGGGATTTGGTTATACAATGAGGTCTAA',\n",
       " 'ATCCTCGCGCAGACTACCGTCCGTTTCGAATTTTCACTGCATTGCTGACC',\n",
       " 'AAGGTAGCATCGACGGTTTTCATCCGATACGTCCCATGCATTGCAACTTC',\n",
       " 'ATACCACCCCTGCCTACATGGACACGCCTTTACGTAGTTACACCGCGGTA',\n",
       " 'AATGACCATTTTCATCTATTATCTTCAGGTGTACGCGTCGCCCCAAGTCA',\n",
       " 'CGTGATTATCACAGGCCGGAATCTTACAGCCGGGGGCCTCACACGCATGC',\n",
       " 'GTTGTCTCACGCTGTAGCATCAGAAGTGATTGCGCCCCAAAGGAGGGTAT',\n",
       " 'ACGTTGCAGAGGGAGTTAGCACTACATTATACAGCGGATCGAAGATAGAT',\n",
       " 'GGGCCACGACCTTGACCGGGTCCTGCGTTTGTATGCAATACCTGCAGGCA',\n",
       " 'CCGAGACCGCAGCCTTATCAAACGTATTAACGGGTCGTCCTCACGGGTCT',\n",
       " 'ACAACGGCATGCGATAAGCCCCTAACCGGACGTCATTTATCCGGCGGAGT',\n",
       " 'TCACGTCATATCCCGGTAATTAGTTTGTTCTGATAATCTCCGCGTGTCCA',\n",
       " 'GGTCGAGCAGTATCGCGTAGCTTTTGTACGATCTAGAGCTGCCGAGAATA',\n",
       " 'ACTGCTTATGATATGGCTCCCAACCGCAGTGATGCTGGCGGTGGGTTCTT',\n",
       " 'TAATCATAGCCAGGTAAGAAGCCACAATTACGCTGGTAAGGATTCAGCGC',\n",
       " 'GAAAGCGAGAGGTGAACTGAATCGCTTTCAAGATGCTGGCTGATTCTTTG',\n",
       " 'AATTCGTCCTCCTTCGGGTTAACGAGCCTCCTGGAGAGTGAATGACGGAG',\n",
       " 'AAATTCACCCATTAAGAGAGGAACATCTATTGCAACACCATTATCTCTGA',\n",
       " 'AGCCAGAAGGCACGCCAATGTGCGTCTATTACGTCACTCCGACTTACGTC',\n",
       " 'AGAGATCTTTCGCGGTACGAGTCTGCACATCTCTTAGCCTGGGCCGCCAA',\n",
       " 'TACAATTATCCTACTGCGGCTAGCAAACAACCGCGTGCGGACCCGGCTAG',\n",
       " 'ACATCGAAGTCACGGTTCGTATTCAGGGACTGATATCACCCAGAGATTTA',\n",
       " 'GAGTGAACAAGAACGTTGTTCGCCGCGACTGATGTTAAACGAGCAGACGT',\n",
       " 'TCATGGCCTGTCTAACTGTCAACTTTATCTAGAACAATCTTTTTCGTATG',\n",
       " 'TTGGGCTCCCAATATCCATTATCATGCTGTGTCTGGAAGAGGAACAAAAC',\n",
       " 'GGATTCACTGGACTTGCCATAGCGCACTATTGCTACTTTATCTAAACTAT',\n",
       " 'TTCTCGGAGGCGACTCTAGGTACGTCTCGTCTGCCGCCGCGCACTCACTC',\n",
       " 'CATGCAGGGCGTCCAAATGCTGTCGCTTGAGTGAATTGGTGGTACTACAG',\n",
       " 'GAGCCACATAGAAAAAATATAGGCTGCATAAGCGAGAAAAGCATCGGAAG',\n",
       " 'AGACTTGCCGCGCAAACACTAGCTCGTATATGAGACTAGAGCCGTATGAT',\n",
       " 'GCATTACAGAAGCGAGCCTGCTTTCTGATATACGAATGTCCGGATACATT',\n",
       " 'CTAACGTCGCATGCGTTTATCAAGATCTCCTTTATCGAATTGGAATGTCA',\n",
       " 'GTTGCACCATGCGGGCTACGTTAAGTCTGTTCAAAGTGTTAGTAGGCGCC',\n",
       " 'ATACGCCGGTAACAGGATAGCCAGAAGAGATGCGAAGACAGTAGGGGTGC',\n",
       " 'TAGAGGACAAAACAAAACCAAGATTGTCGAGCCGACTAGTGGAGGCCTAG',\n",
       " 'CTGGGAGCATCGCTGACGGGGAACGAAGCCCTTCTAGTGCATTCTCCTGA',\n",
       " 'ACACATACCCCTCGGTAACTATCGCATACTACGTGGCGCTCTTATCGCAA',\n",
       " 'GACGACTTCGAAATAGACCTCGCATGTTCGGGATGCTAATGTCTTTATGC',\n",
       " 'CGGTTTATCATCAGGGGAGCTATATTGCAGACAGAGGGCCCGTAACTCCT',\n",
       " 'ATGGCGACCACTGTCTCAAAGACATATTCCCCATCGGCTTCGGCCCAAAA',\n",
       " 'TAGGAGCGCGTCGCTGATAATGAGAGGATATTAATACCCTGCATATACGG',\n",
       " 'TGAGAACCGCCTGCGATCAAGGTCTAAAGCTTTTGGGGGAACGGGCGACG',\n",
       " 'ACACAAGTCTTAGAGGTCGGACAGGTCGCAATAATAGGCCATCCCGTGCC']"
      ]
     },
     "execution_count": 237,
     "metadata": {},
     "output_type": "execute_result"
    }
   ],
   "source": [
    "popln_DNA"
   ]
  },
  {
   "cell_type": "markdown",
   "metadata": {
    "id": "1G5m0nyOdb-v"
   },
   "source": [
    "We also want a list to hold our total population entropy, so that we can see how it changes with time."
   ]
  },
  {
   "cell_type": "code",
   "execution_count": 238,
   "metadata": {
    "executionInfo": {
     "elapsed": 13,
     "status": "ok",
     "timestamp": 1645099069071,
     "user": {
      "displayName": "Kai Xiang Lee",
      "photoUrl": "https://lh3.googleusercontent.com/a-/AOh14GgBJUAJUYel5rdbTnU92LBd__AiaBgIY-k-dk5xLA=s64",
      "userId": "12776711516058684946"
     },
     "user_tz": -480
    },
    "id": "8k3yCI-0dhEr"
   },
   "outputs": [],
   "source": [
    "popln_entropy = []"
   ]
  },
  {
   "cell_type": "markdown",
   "metadata": {
    "id": "SwvaSGoIdn5L"
   },
   "source": [
    "Finally, we want to define how many breeding cycles we are interested in. For now, we set `num_cycles = 100`."
   ]
  },
  {
   "cell_type": "code",
   "execution_count": 239,
   "metadata": {
    "executionInfo": {
     "elapsed": 13,
     "status": "ok",
     "timestamp": 1645099069071,
     "user": {
      "displayName": "Kai Xiang Lee",
      "photoUrl": "https://lh3.googleusercontent.com/a-/AOh14GgBJUAJUYel5rdbTnU92LBd__AiaBgIY-k-dk5xLA=s64",
      "userId": "12776711516058684946"
     },
     "user_tz": -480
    },
    "id": "eGWwGYpDdtBp"
   },
   "outputs": [],
   "source": [
    "num_cycles = 100"
   ]
  },
  {
   "cell_type": "markdown",
   "metadata": {
    "id": "0ozkK6S5dlrl"
   },
   "source": [
    "Now let's run our simulation. We will use a `for`-loop, and iterate `num_cycle = 100` times. \n",
    "\n",
    "At each step, we will find the entropy, and add it to our population entropy list. We will then breed the population, and repeat the cycle."
   ]
  },
  {
   "cell_type": "code",
   "execution_count": 240,
   "metadata": {
    "executionInfo": {
     "elapsed": 1524,
     "status": "ok",
     "timestamp": 1645099070583,
     "user": {
      "displayName": "Kai Xiang Lee",
      "photoUrl": "https://lh3.googleusercontent.com/a-/AOh14GgBJUAJUYel5rdbTnU92LBd__AiaBgIY-k-dk5xLA=s64",
      "userId": "12776711516058684946"
     },
     "user_tz": -480
    },
    "id": "gvFJXgxQduxH"
   },
   "outputs": [],
   "source": [
    "for cycle in range(num_cycles):                     # For each cycle\n",
    "    current_entropy = genome_entropy(popln_DNA)     # We find the entropy of \n",
    "                                                    # their genome\n",
    "    popln_entropy.append(current_entropy)           # and add it to the list\n",
    "\n",
    "    next_generation = []                    # Defining a variable to hold\n",
    "                                            # the DNA of the next generation\n",
    "\n",
    "    while len(next_generation) < popln_size:    # While the new generation is \n",
    "                                                # still too small,\n",
    "\n",
    "                                                # We choose two individuals to\n",
    "                                                # make an offspring\n",
    "        parent1, parent2 = np.random.choice(popln_DNA, 2)\n",
    "\n",
    "                                                # We breed them, and take their kid\n",
    "        offspring = breed(parent1, parent2)\n",
    "\n",
    "                                                # and add their offspring to the\n",
    "                                                # next generation\n",
    "        next_generation.append(offspring)\n",
    "    \n",
    "    # We now replace the old generation with the new one\n",
    "    popln_DNA = next_generation"
   ]
  },
  {
   "cell_type": "markdown",
   "metadata": {
    "id": "oU4mcyOBftGi"
   },
   "source": [
    "## Plotting Results\n",
    "\n",
    "We can now take a look at how the genome of the population changes over time. "
   ]
  },
  {
   "cell_type": "code",
   "execution_count": 241,
   "metadata": {
    "colab": {
     "base_uri": "https://localhost:8080/",
     "height": 555
    },
    "executionInfo": {
     "elapsed": 9,
     "status": "ok",
     "timestamp": 1645099070585,
     "user": {
      "displayName": "Kai Xiang Lee",
      "photoUrl": "https://lh3.googleusercontent.com/a-/AOh14GgBJUAJUYel5rdbTnU92LBd__AiaBgIY-k-dk5xLA=s64",
      "userId": "12776711516058684946"
     },
     "user_tz": -480
    },
    "id": "aE1VhWAhefxx",
    "outputId": "f5b25edb-7775-4fd2-c239-26064d426349"
   },
   "outputs": [
    {
     "data": {
      "image/png": "[encoded data removed]",
      "text/plain": [
       "<Figure size 1000x600 with 1 Axes>"
      ]
     },
     "metadata": {
      "needs_background": "light"
     },
     "output_type": "display_data"
    }
   ],
   "source": [
    "plt.figure(figsize = (10,6), dpi = 100)         # Change resolution of figure\n",
    "\n",
    "plt.plot(popln_entropy)                         # Plots the figure\n",
    "\n",
    "plt.title(\"Genome Entropy over Generations\")    # Changes figure labels\n",
    "plt.xlabel(\"Generation Number\")\n",
    "plt.ylabel(\"Genome Entropy (Bits)\")\n",
    "\n",
    "plt.show()                                      # Prints the figures"
   ]
  },
  {
   "cell_type": "markdown",
   "metadata": {
    "id": "GYtDmSwPf4el"
   },
   "source": [
    "We can see that after a while, the population converges and the differences between the genes of the population falls. This is due to interbreeding causing the gene pool to converge.\n",
    "\n",
    "We can see that there are also fluctuations in the gene pool. This is the mutation factor at work, causing small changes in the gene pool.\n",
    "\n",
    "However, we can see that at some point, the entropy begins rising again. This is due to natural genetic drift - once the popuation stabilises, any genetic mutation that is not detrimental will not be selected against. In our simple model, all mutations are equal, hence the gene pool begins diverging again."
   ]
  },
  {
   "cell_type": "markdown",
   "metadata": {
    "id": "MmOmkVU3gHYu"
   },
   "source": [
    "![image.png](data:image/png;base64,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)"
   ]
  },
  {
   "cell_type": "markdown",
   "metadata": {
    "id": "uA87Dg4zhTHL"
   },
   "source": [
    "# Extensions\n",
    "\n",
    "Consider playing around with the variables in the model, and see how do they affect the genetic variation in the population, e.g., add more bases, what happens over longer time frames, etc.\n",
    "\n",
    "You may also consider how two genomically similar populations diverge over time, similar how insular dwarfism occors.\n",
    "\n",
    "Further, you can consider how poor mutations may be selected for or against, and see how the effects of incest and debihilitate a population."
   ]
  }
 ],
 "metadata": {
  "colab": {
   "authorship_tag": "ABX9TyMV5smGeTR1hfJhOERuM0w0",
   "collapsed_sections": [],
   "name": "Genetics: Population Genomic Variation.ipynb",
   "provenance": []
  },
  "kernelspec": {
   "display_name": "Python 3 (ipykernel)",
   "language": "python",
   "name": "python3"
  },
  "language_info": {
   "codemirror_mode": {
    "name": "ipython",
    "version": 3
   },
   "file_extension": ".py",
   "mimetype": "text/x-python",
   "name": "python",
   "nbconvert_exporter": "python",
   "pygments_lexer": "ipython3",
   "version": "3.10.1"
  }
 },
 "nbformat": 4,
 "nbformat_minor": 1
}
