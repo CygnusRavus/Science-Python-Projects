{
 "cells": [
  {
   "cell_type": "markdown",
   "metadata": {
    "id": "nbZ78tNnMRq_"
   },
   "source": [
    "# Chain Reactions\n",
    "\n",
    "In the field of chemistry, we often need to consider reactions between multiple different compounds with different properties. The challenge arises when we are optimising for the yield of the production of a single compound. How do we prevent unwanted side reactions or further chain reactions. \n",
    "\n",
    "This simulation demonstrates a method to determine the yield of a certain reaction, given some initial conditions. Optimisation can then be implementated by varying these initial conditions (further extentions)."
   ]
  },
  {
   "cell_type": "markdown",
   "metadata": {
    "id": "sKpqs4T63ahB"
   },
   "source": [
    "# Problem Statement\n",
    "\n",
    "Consider the following reaction, using two reactants $A$ and $B$:\n",
    "\n",
    "\\begin{align}\n",
    "&A + B \\to AB \\\\\n",
    "&B + AB \\to ABB\n",
    "\\end{align}\n",
    "\n",
    "Given that they have the same (unrealistic) rate of reaction, what is the possible highest yield of $AB$?"
   ]
  },
  {
   "cell_type": "markdown",
   "metadata": {
    "id": "pQx4HBSh349Z"
   },
   "source": [
    "# Background\n",
    "\n",
    "The rate equations associated with the reactions are\n",
    "\n",
    "\\begin{align}\n",
    "\\mathrm{Rate\\ 1} &= k_1 [A][B]\\\\\n",
    "\\mathrm{Rate\\ 2} &= k_2 [AB][B]\n",
    "\\end{align}\n",
    "\n",
    "We can see that we have a few dials to twiddle: the rate constants, the initial concentrations of $A$ and $B$, and even the concentrations of the end products. The rate of reaction then determines the rate of production and consumption of the compounds.\n",
    "\n",
    "Given identical initial concentrations, what is the final concentration of $AB$?"
   ]
  },
  {
   "cell_type": "markdown",
   "metadata": {
    "id": "QbX6_fG_LAmo"
   },
   "source": [
    "## Numerical Integration\n",
    "\n",
    "The computational technique used in this example is numerical integration. The rate equations tell us how fast the reaction proceeds. In other words, it tells us the change in concentration of the reagents and products. The first reaction alone tells us the production and consumption of the compounds:\n",
    "\n",
    "\n",
    "\\begin{align}\n",
    "&\\frac{\\mathrm{d}}{\\mathrm{d}t}[AB] = k_{1}[A][B] \\\\\n",
    "&\\frac{\\mathrm{d}}{\\mathrm{d}t}[A] = - k_{1}[A][B] \\\\\n",
    "&\\frac{\\mathrm{d}}{\\mathrm{d}t}[B] = - k_{1}[A][B]\n",
    "\\end{align}\n",
    "\n",
    "Note that the sign is negative for reagents (consumption) and positive for products (production).\n",
    "\n",
    "One way we can model this is using very small steps in time, $\\mathrm{d}t$, and finding the small change in concentration at that time, $\\mathrm{d}[AB]$. Using the first equation, we can write the change in concentration as\n",
    "\n",
    "$$\n",
    "\\mathrm{d}[AB] = k_1 [A][B] \\mathrm{d}t\n",
    "$$\n",
    "\n",
    "and at the next instance in time, $t + \\mathrm{d}t$, we have the concentration $[AB] + \\mathrm{d}[AB]$. Repeating this for every step in time, we can trace the evolution of the concentrations of the chemicals.\n",
    "\n",
    "Note that the smaller the step in time, the more accurate the simulation will be. Time in reality flows continously, and the closer we approach this continuum, the more accurate results we will obtain."
   ]
  },
  {
   "cell_type": "markdown",
   "metadata": {
    "id": "q3puyvx2MOWK"
   },
   "source": [
    "# Simulation"
   ]
  },
  {
   "cell_type": "markdown",
   "metadata": {
    "id": "cgneD4ddMffD"
   },
   "source": [
    "## Libraries"
   ]
  },
  {
   "cell_type": "markdown",
   "metadata": {
    "id": "WMOGz2YrMP2F"
   },
   "source": [
    "First, we need to import the libraries required. We will use only *mathplotlib.pyplot* for plotting."
   ]
  },
  {
   "cell_type": "code",
   "execution_count": 2,
   "metadata": {
    "executionInfo": {
     "elapsed": 259,
     "status": "ok",
     "timestamp": 1644522259335,
     "user": {
      "displayName": "Kai Xiang Lee",
      "photoUrl": "https://lh3.googleusercontent.com/a-/AOh14GgBJUAJUYel5rdbTnU92LBd__AiaBgIY-k-dk5xLA=s64",
      "userId": "12776711516058684946"
     },
     "user_tz": -480
    },
    "id": "X-7NmdPo3Nl1"
   },
   "outputs": [],
   "source": [
    "import matplotlib.pyplot as plt"
   ]
  },
  {
   "cell_type": "markdown",
   "metadata": {
    "id": "QyIeAs8jMgy0"
   },
   "source": [
    "## Initialisation of Variables"
   ]
  },
  {
   "cell_type": "markdown",
   "metadata": {
    "id": "zw8aF5n0MdHY"
   },
   "source": [
    "Next, we define our initial conditions. We will use a list to store the concentrations of the compounds. The concentration at each step in time is referenced from the back of the list, calculated, then appended on to the back. This gives us a list of concentrations over time.\n",
    "\n",
    "The initial concentrations are initialised in the list already."
   ]
  },
  {
   "cell_type": "code",
   "execution_count": 3,
   "metadata": {
    "executionInfo": {
     "elapsed": 2,
     "status": "ok",
     "timestamp": 1644522259607,
     "user": {
      "displayName": "Kai Xiang Lee",
      "photoUrl": "https://lh3.googleusercontent.com/a-/AOh14GgBJUAJUYel5rdbTnU92LBd__AiaBgIY-k-dk5xLA=s64",
      "userId": "12776711516058684946"
     },
     "user_tz": -480
    },
    "id": "fUt9_gHZ39_y"
   },
   "outputs": [],
   "source": [
    "conc_A = [1]\n",
    "conc_B = [1]\n",
    "conc_AB = [0]\n",
    "conc_ABB = [0]"
   ]
  },
  {
   "cell_type": "markdown",
   "metadata": {
    "id": "CMlGb3oRM0UW"
   },
   "source": [
    "We also put the rate constants here for easy reference and changing later if needed."
   ]
  },
  {
   "cell_type": "code",
   "execution_count": 4,
   "metadata": {
    "executionInfo": {
     "elapsed": 2,
     "status": "ok",
     "timestamp": 1644522259607,
     "user": {
      "displayName": "Kai Xiang Lee",
      "photoUrl": "https://lh3.googleusercontent.com/a-/AOh14GgBJUAJUYel5rdbTnU92LBd__AiaBgIY-k-dk5xLA=s64",
      "userId": "12776711516058684946"
     },
     "user_tz": -480
    },
    "id": "xovzBEBt4EKx"
   },
   "outputs": [],
   "source": [
    "k1 = 1\n",
    "k2 = 1"
   ]
  },
  {
   "cell_type": "markdown",
   "metadata": {
    "id": "jG4cNz4iNCT9"
   },
   "source": [
    "We also define the time steps we will use (1 ms) and the total run time we want (10 s)."
   ]
  },
  {
   "cell_type": "code",
   "execution_count": 5,
   "metadata": {
    "executionInfo": {
     "elapsed": 5,
     "status": "ok",
     "timestamp": 1644522260302,
     "user": {
      "displayName": "Kai Xiang Lee",
      "photoUrl": "https://lh3.googleusercontent.com/a-/AOh14GgBJUAJUYel5rdbTnU92LBd__AiaBgIY-k-dk5xLA=s64",
      "userId": "12776711516058684946"
     },
     "user_tz": -480
    },
    "id": "gRASJno-4miU"
   },
   "outputs": [],
   "source": [
    "dt = 0.001\n",
    "runtime = 10"
   ]
  },
  {
   "cell_type": "markdown",
   "metadata": {
    "id": "65u0pB9GNYHH"
   },
   "source": [
    "## Equations needed"
   ]
  },
  {
   "cell_type": "markdown",
   "metadata": {
    "id": "MvRherdA4QS0"
   },
   "source": [
    "The rate of reactions of chemicals are governed by the rate equations, which relates the rate of production (and consumption) of compounds to the concentration of the reactants. This assumes an irreversible reaction, as well as reaction of order $1$, and a constant rate constant.\n",
    "\n",
    "We can write down the change in the compounds over time:\n",
    "\n",
    "\\begin{align}\n",
    "\\frac{\\mathrm{d}}{\\mathrm{d}t}[AB] &= k_{1}[A][B] - k_{2}[AB][B] \\\\\n",
    "\\frac{\\mathrm{d}}{\\mathrm{d}t}[A] &= - k_{1}[A][B] \\\\\n",
    "\\frac{\\mathrm{d}}{\\mathrm{d}t}[B] &= - k_{1}[A][B] - k_{2}[AB][B]\\\\\n",
    "\\frac{\\mathrm{d}}{\\mathrm{d}t}[ABB] &= k_{2}[AB][B] \\\\\n",
    "\\end{align}\n",
    "\n",
    "Note that the additional terms come in as we consider both reactions"
   ]
  },
  {
   "cell_type": "markdown",
   "metadata": {
    "id": "drwBdsInNccd"
   },
   "source": [
    "## Simulation\n",
    "\n",
    "We will  run the simulation in a while loop. It checks if the current time exceeds our run time, and processes the equations step-by-step."
   ]
  },
  {
   "cell_type": "code",
   "execution_count": 6,
   "metadata": {
    "executionInfo": {
     "elapsed": 4,
     "status": "ok",
     "timestamp": 1644522260302,
     "user": {
      "displayName": "Kai Xiang Lee",
      "photoUrl": "https://lh3.googleusercontent.com/a-/AOh14GgBJUAJUYel5rdbTnU92LBd__AiaBgIY-k-dk5xLA=s64",
      "userId": "12776711516058684946"
     },
     "user_tz": -480
    },
    "id": "scqhavoP4roe"
   },
   "outputs": [],
   "source": [
    "current = 0                 # Our starting time\n",
    "\n",
    "while current <= runtime:   # If the time is less than defined run time,\n",
    "    current += dt           # Update the current time\n",
    "\n",
    "                            # Solve for the equations given above ^\n",
    "    new_conc_A = conc_A[-1] - k1*conc_A[-1]*conc_B[-1]*dt\n",
    "    new_conc_B = conc_B[-1] - k1*conc_A[-1]*conc_B[-1]*dt - k2*conc_B[-1]*conc_AB[-1]*dt\n",
    "\n",
    "    new_conc_AB = conc_AB[-1] + k1*conc_A[-1]*conc_B[-1]*dt - k2*conc_AB[-1]*conc_B[-1]*dt\n",
    "    new_conc_ABB = conc_ABB[-1] + k2*conc_AB[-1]*conc_B[-1]*dt\n",
    "\n",
    "    # Append them to the end of their respective lists\n",
    "    conc_A.append(new_conc_A)\n",
    "    conc_B.append(new_conc_B)\n",
    "    conc_AB.append(new_conc_AB)\n",
    "    conc_ABB.append(new_conc_ABB)"
   ]
  },
  {
   "cell_type": "markdown",
   "metadata": {
    "id": "QqEve3EoNy0d"
   },
   "source": [
    "## Plotting\n",
    "\n",
    "We can now plot our results"
   ]
  },
  {
   "cell_type": "code",
   "execution_count": 7,
   "metadata": {
    "colab": {
     "base_uri": "https://localhost:8080/",
     "height": 555
    },
    "executionInfo": {
     "elapsed": 5,
     "status": "ok",
     "timestamp": 1644522260303,
     "user": {
      "displayName": "Kai Xiang Lee",
      "photoUrl": "https://lh3.googleusercontent.com/a-/AOh14GgBJUAJUYel5rdbTnU92LBd__AiaBgIY-k-dk5xLA=s64",
      "userId": "12776711516058684946"
     },
     "user_tz": -480
    },
    "id": "apEnu7KGJayu",
    "outputId": "76f82638-0447-4a92-8f5c-fa4766cd7983"
   },
   "outputs": [
    {
     "data": {
      "image/png": "[encoded data removed]",
      "text/plain": [
       "<Figure size 800x600 with 1 Axes>"
      ]
     },
     "metadata": {
      "needs_background": "light"
     },
     "output_type": "display_data"
    }
   ],
   "source": [
    "plt.figure(figsize = (8,6), dpi = 100)          # Sets the figure size\n",
    "\n",
    "plt.plot(conc_A, \":\", label = \"A\")              # Plots the various compound concentrations\n",
    "plt.plot(conc_B, \":\", label = \"B\")\n",
    "plt.plot(conc_AB, label = \"AB\")\n",
    "plt.plot(conc_ABB, label = \"ABB\")\n",
    "\n",
    "                                                # Sets the labels of the zxes and title\n",
    "plt.ylabel(\"Concentration (mol/dm$^3$)\")\n",
    "plt.xlabel(\"Time (ms)\")\n",
    "plt.title(\"Change in Concentration of Reagent over Time\")\n",
    "\n",
    "                                                # Makes the legend and bg grid\n",
    "plt.legend()\n",
    "plt.grid()\n",
    "\n",
    "                                                # Plots the plot\n",
    "plt.show()"
   ]
  },
  {
   "cell_type": "code",
   "execution_count": 9,
   "metadata": {},
   "outputs": [
    {
     "name": "stdout",
     "output_type": "stream",
     "text": [
      "Final Concentration of AB 0.3644350057385961 mol/dm3\n"
     ]
    }
   ],
   "source": [
    "print(\"Final Concentration of AB:\", conc_AB[-1], \"mol/dm3\", sep = \" \")"
   ]
  },
  {
   "cell_type": "markdown",
   "metadata": {
    "id": "gK0NvS_SOFS-"
   },
   "source": [
    "# Extensions\n",
    "\n",
    "1. Consider playing around with the starting conditions\n",
    "2. Try another reaction that you are familiar with\n",
    "3. Add more reactions onto the ones given\n",
    "4. [Medium] What if the reactions were reversible?\n",
    "5. [Hard] What if we had an endless series of chain reactions, e.g., ABBBBB + B $\\to$ ABBBBBB, and so on."
   ]
  }
 ],
 "metadata": {
  "colab": {
   "authorship_tag": "ABX9TyM6mYe0xT0Rh4RQIeKrGN6p",
   "collapsed_sections": [],
   "name": "Chemistry: Polymer Chain Reaction.ipynb",
   "provenance": []
  },
  "kernelspec": {
   "display_name": "Python 3 (ipykernel)",
   "language": "python",
   "name": "python3"
  },
  "language_info": {
   "codemirror_mode": {
    "name": "ipython",
    "version": 3
   },
   "file_extension": ".py",
   "mimetype": "text/x-python",
   "name": "python",
   "nbconvert_exporter": "python",
   "pygments_lexer": "ipython3",
   "version": "3.10.1"
  }
 },
 "nbformat": 4,
 "nbformat_minor": 1
}
